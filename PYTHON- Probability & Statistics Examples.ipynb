{
 "cells": [
  {
   "cell_type": "code",
   "execution_count": 26,
   "id": "8dcc5382",
   "metadata": {},
   "outputs": [],
   "source": [
    "from scipy.stats import norm\n",
    "from scipy.stats import binom as b\n",
    "from scipy.stats import t\n",
    "import matplotlib.pyplot as plt\n",
    "import numpy as np\n",
    "from math import sqrt"
   ]
  },
  {
   "cell_type": "code",
   "execution_count": 3,
   "id": "a5ac89fb",
   "metadata": {},
   "outputs": [
    {
     "data": {
      "text/plain": [
       "0.9458"
      ]
     },
     "execution_count": 3,
     "metadata": {},
     "output_type": "execute_result"
    }
   ],
   "source": [
    "#1. The weights of steers in a herd are distributed normally.  The variance is 40,000 and the mean steer weight is 1300 lbs.  Find the probability that the weight of a randomly selected steer is greater than 979 lbs. (Round your answer to 4 decimal places)\n",
    "###SD=200, Mu=1300, Upper tail of 979\n",
    "round( 1 - norm.cdf(979, loc=1300, scale=200) , 4)\n"
   ]
  },
  {
   "cell_type": "code",
   "execution_count": 11,
   "id": "ffd4603e",
   "metadata": {},
   "outputs": [
    {
     "data": {
      "text/plain": [
       "0.9713"
      ]
     },
     "execution_count": 11,
     "metadata": {},
     "output_type": "execute_result"
    }
   ],
   "source": [
    "#2. SVGA monitors manufactured by TSI Electronics have life spans that have a normal distribution with a variance of 1,960,000 and a mean life span of 11,000 hours.  If a SVGA monitor is selected at random, find the probability that the life span of the monitor will be more than 8340 hours. \n",
    "#(Round your answer to 4 decimal places)\n",
    "\n",
    "###SD=1400, Mu=11000, Upper tail of 8340\n",
    "round( 1 - norm.cdf(8340, loc=11000, scale=1400) , 4)"
   ]
  },
  {
   "cell_type": "code",
   "execution_count": 13,
   "id": "dfc58fc5",
   "metadata": {},
   "outputs": [
    {
     "data": {
      "text/plain": [
       "0.1109"
      ]
     },
     "execution_count": 13,
     "metadata": {},
     "output_type": "execute_result"
    }
   ],
   "source": [
    "#3. Suppose the mean income of firms in the industry for a year is 80 million dollars with a standard deviation of 3 million dollars.  If incomes for the industry are distributed normally, what is the probability that a randomly selected firm will earn between 83 and 85 million dollars? \n",
    "##(Round your answer to 4 decimal places)\n",
    "\n",
    "#### P(83 < x < 85 |Mu=80, SD=3)\n",
    "round( (norm.cdf(85, loc=80, scale=3) - norm.cdf(83, loc=80, scale=3)) , 4)\n"
   ]
  },
  {
   "cell_type": "code",
   "execution_count": 15,
   "id": "e404768b",
   "metadata": {},
   "outputs": [
    {
     "data": {
      "text/plain": [
       "589"
      ]
     },
     "execution_count": 15,
     "metadata": {},
     "output_type": "execute_result"
    }
   ],
   "source": [
    "#4. Suppose GRE Verbal scores are normally distributed with a mean of 456 and a standard deviation of 123.  A university plans to offer tutoring jobs to students whose scores are in the top 14%.  \n",
    "#What is the minimum score required for the job offer. Round to nearest whole number\n",
    "#### Mu=456, SD=123 Value for Top 14%\n",
    "round (norm.ppf(.86, 456, 123) )"
   ]
  },
  {
   "cell_type": "code",
   "execution_count": 18,
   "id": "3fdb9bf5",
   "metadata": {},
   "outputs": [
    {
     "name": "stdout",
     "output_type": "stream",
     "text": [
      "6.04 \n",
      " 6.22\n"
     ]
    }
   ],
   "source": [
    "#5. The lengths of nails produced in a factory are normally distributed with a mean of 6.13 centimeters and a standard deviation of 0.06 centimeters.  Find the two lengths that separate the top 7% and the bottom 7%.  These lengths could serve as limits used to identify which nails should be rejected.\n",
    "#Round to nearest hundredth\n",
    "#### Mu=6.13, SD=.06\n",
    "print(round (norm.ppf(.07, 6.13, .06), 2 ), \"\\n\" , round (norm.ppf(.93, 6.13, .06), 2 ) )"
   ]
  },
  {
   "cell_type": "code",
   "execution_count": 20,
   "id": "09d48f25",
   "metadata": {},
   "outputs": [
    {
     "name": "stdout",
     "output_type": "stream",
     "text": [
      "80 \n",
      " 71\n"
     ]
    }
   ],
   "source": [
    "#6. An English professor assigns letter grades on a test according to the following scheme. \n",
    "## C:Scores below the top 45% and above the bottom 20%\n",
    "## Round to nearest whole number\n",
    "#### Mu = 78.8, SD=9.8\n",
    "print(round (norm.ppf(.55, 78.8, 9.8)), \"\\n\" , round (norm.ppf(.20, 78.8, 9.8)) )"
   ]
  },
  {
   "cell_type": "code",
   "execution_count": 21,
   "id": "67a3c916",
   "metadata": {},
   "outputs": [
    {
     "data": {
      "text/plain": [
       "21.9"
      ]
     },
     "execution_count": 21,
     "metadata": {},
     "output_type": "execute_result"
    }
   ],
   "source": [
    "#7 Suppose ACT Composite scores are normally distributed with a mean of 21.2 and a standard deviation of 5.4.  \n",
    "#A university plans to admit students whose scores are in the top 45%.  What is the minimum score required for admission?  \n",
    "#Round your answer to the nearest tenth, if necessary.\n",
    "#### Mu = 21.2, SD = 5.4\n",
    "round (norm.ppf(.55, 21.2, 5.4) , 1)"
   ]
  },
  {
   "cell_type": "code",
   "execution_count": 34,
   "id": "163ed0f8",
   "metadata": {},
   "outputs": [
    {
     "data": {
      "text/plain": [
       "0.192"
      ]
     },
     "execution_count": 34,
     "metadata": {},
     "output_type": "execute_result"
    }
   ],
   "source": [
    "#8. Consider the probability that less than 11 out of 151 students will not graduate on time.  \n",
    "##Assume the probability that a given student will not graduate on time is 9%.  Approximate the probability using the normal distribution. \n",
    "##(Round your answer to 4 decimal places.)\n",
    "\n",
    "round( b.cdf(10, 151, .09), 4)"
   ]
  },
  {
   "cell_type": "code",
   "execution_count": 33,
   "id": "586f3d5a",
   "metadata": {},
   "outputs": [
    {
     "name": "stdout",
     "output_type": "stream",
     "text": [
      "0.0753\n"
     ]
    }
   ],
   "source": [
    "#9. The mean lifetime of a tire is 48 months with a standard deviation of 7.  \n",
    "# If 147 tires are sampled, what is the probability that the mean of the sample would be greater than 48.83 months? \n",
    "# (Round your answer to 4 decimal places)\n",
    "\n",
    "#Standard Error of the Mean = SD / (n^.5)\n",
    "sde = 7/sqrt(147)\n",
    "print(round(1 - norm.cdf(48.83, loc=48, scale=sde), 4))"
   ]
  },
  {
   "cell_type": "code",
   "execution_count": 35,
   "id": "1b5f57ec",
   "metadata": {},
   "outputs": [
    {
     "name": "stdout",
     "output_type": "stream",
     "text": [
      "0.0181\n"
     ]
    }
   ],
   "source": [
    "#10. The quality control manager at a computer manufacturing company believes that the mean life of a computer is 91 months, with a standard deviation of 10.  If he is correct, \n",
    "# what is the probability that the mean of a sample of 68 computers would be greater than 93.54 months? \n",
    "# (Round your answer to 4 decimal places)\n",
    "sde = 10/sqrt(68)\n",
    "print(round(1 - norm.cdf(93.54, loc=91, scale=sde), 4))"
   ]
  },
  {
   "cell_type": "code",
   "execution_count": 38,
   "id": "3fe61e9c",
   "metadata": {},
   "outputs": [
    {
     "name": "stdout",
     "output_type": "stream",
     "text": [
      "0.9947\n"
     ]
    }
   ],
   "source": [
    "#11. A director of reservations believes that 7% of the ticketed passengers are no-shows.  If the director is right, \n",
    "# what is the probability that the proportion of no-shows in a sample of 540 ticketed passengers would differ from the population proportion by less than 3%? \n",
    "# (Round your answer to 4 decimal places)\n",
    "print(round( b.cdf(.10*540, 540, .07) - b.cdf(.04*540, 540, .07) , 4)) "
   ]
  },
  {
   "cell_type": "code",
   "execution_count": 45,
   "id": "2bcc09b0",
   "metadata": {},
   "outputs": [
    {
     "name": "stdout",
     "output_type": "stream",
     "text": [
      "0.98\n"
     ]
    }
   ],
   "source": [
    "#12. A bottle maker believes that 23% of his bottles are defective.  If the bottle maker is accurate, \n",
    "# what is the probability that the proportion of defective bottles in a sample of 602 bottles would differ from the population proportion by greater than 4%? \n",
    "# (Round your answer to 4 decimal places)\n",
    "print(round( b.cdf(.27*602, 602, .23) - b.cdf(.19*602, 602, .23) , 4)) "
   ]
  },
  {
   "cell_type": "code",
   "execution_count": 43,
   "id": "7766ac00",
   "metadata": {},
   "outputs": [
    {
     "name": "stdout",
     "output_type": "stream",
     "text": [
      "3.8 \n",
      " 4.0\n"
     ]
    }
   ],
   "source": [
    "#13. What is mean consumption of beef per week among males over age 48.  Sample size of 208 with x bar=3.9 and sigma=.8\n",
    "# What is 80% confidence interval for the mean number of pounds of beef per week among males over 48\n",
    "# Round to 1 decimal place\n",
    "print(round ( norm.ppf(.1, 3.9, .8/sqrt(208) ) ,1 ), \"\\n\" , round ( norm.ppf(.9, 3.9, .8/sqrt(208) ) ,1 ) )"
   ]
  },
  {
   "cell_type": "code",
   "execution_count": 44,
   "id": "2fb5522c",
   "metadata": {},
   "outputs": [
    {
     "name": "stdout",
     "output_type": "stream",
     "text": [
      "16.3 \n",
      " 16.9\n"
     ]
    }
   ],
   "source": [
    "#14. An economist wants to estimate the mean per capita income (in thousands of dollars) in a major city in California.  \n",
    "#Suppose a sample of size 7472 is drawn with x bar=16.6 and sigma=11. Construct 98% interval\n",
    "#Round to 1 decimal\n",
    "print(round ( norm.ppf(.01, 16.6, 11/sqrt(7472) ) ,1 ), \"\\n\" , round ( norm.ppf(.99, 16.6, 11/sqrt(7472) ) ,1 ) )"
   ]
  },
  {
   "cell_type": "code",
   "execution_count": null,
   "id": "3b35ee67",
   "metadata": {},
   "outputs": [],
   "source": [
    "#15. Find the value of t such that 0.05 of the area under the curve is to the left of t. Assume the degrees of freedom equals 26.\n",
    "## Picture in Top Right as t = 1.706"
   ]
  },
  {
   "cell_type": "code",
   "execution_count": 61,
   "id": "ad7458e8",
   "metadata": {},
   "outputs": [
    {
     "name": "stdout",
     "output_type": "stream",
     "text": [
      "352.17\n",
      "19.79\n",
      "2.015\n",
      "368.45 \n",
      " 335.89\n"
     ]
    }
   ],
   "source": [
    "#16. Using these measurements, construct a 90% confidence interval for the mean level of helium gas present in the facility.  \n",
    "# Assume the population is normally distributed.  \n",
    "data = [383.6, 347.1, 371.9, 347.6, 325.8, 337]\n",
    "#Step 1. Calculate the sample mean for the given sample data. (Round answer to 2 decimal places) \n",
    "mean = round(np.mean(data),2)\n",
    "print(mean)\n",
    "#Step 2. Calculate the sample standard deviation for the given sample data. (Round answer to 2 decimal places) \n",
    "sd = round(np.std(data),2)\n",
    "print(sd)\n",
    "#Step 3. Find the critical value that should be used in constructing the confidence interval. (Round answer to 3 decimal places)\n",
    "# T table with (n - 1) degrees of freedom = 5. Therefore, according to the table, the critical value is: 2.015\n",
    "critval = 2.015\n",
    "print(critval)\n",
    "#Step 4. Construct the 90% confidence intervals. (Round answer to 2 decimal places)\n",
    "print( round (mean + critval * sd/sqrt(6) , 2) , \"\\n\" , round (mean - critval * sd/sqrt(6) , 2) )"
   ]
  },
  {
   "cell_type": "code",
   "execution_count": 63,
   "id": "01e65423",
   "metadata": {},
   "outputs": [
    {
     "name": "stdout",
     "output_type": "stream",
     "text": [
      "47.2 \n",
      " 45.6\n"
     ]
    }
   ],
   "source": [
    "#17. random sample of 16 fields of spring wheat has a mean yield of 46.4 bushels per acre and standard deviation of 2.45 bushels per acre.  \n",
    "# Determine the 80% confidence interval for the true mean yield.  \n",
    "# Assume the population is normally distributed\n",
    "mean = 46.4\n",
    "sd = 2.45\n",
    "# Step 1. Find the critical value that should be used in constructing the confidence interval. (Round answer to 3 decimal places) \n",
    "# T table with (n - 1) degrees of freedom = 15. Therefore, according to the table, the critical value is: 1.341\n",
    "critval = 1.341\n",
    "#Step 2. Construct the 80% confidence interval. (Round answer to 1 decimal place)\n",
    "print( round (mean + critval * sd/sqrt(16) , 1) , \"\\n\" , round (mean - critval * sd/sqrt(16) , 1) )"
   ]
  },
  {
   "cell_type": "code",
   "execution_count": 68,
   "id": "3b8789ab",
   "metadata": {},
   "outputs": [
    {
     "name": "stdout",
     "output_type": "stream",
     "text": [
      "1411.0\n"
     ]
    }
   ],
   "source": [
    "#18. .  She thinks the mean is 8 toys per year.  Assume a previous study found the standard deviation to be 1.9.  \n",
    "#How large of a sample would be required in order to estimate the mean number of toys bought per child at the 99% confidence level with an error of at most 0.13 toys? \n",
    "#(Round your answer up to the next integer)\n",
    "mean = 8\n",
    "sd = 1.9\n",
    "z99 = 2.57\n",
    "print ( np.ceil( ( (z99*sd) /.13) **2) )"
   ]
  },
  {
   "cell_type": "code",
   "execution_count": 70,
   "id": "0931bc69",
   "metadata": {},
   "outputs": [
    {
     "name": "stdout",
     "output_type": "stream",
     "text": [
      "385.0\n"
     ]
    }
   ],
   "source": [
    "#19. A research scientist wants to know how many times per hour a certain strand of bacteria reproduces.  \n",
    "#He believes that the mean is 12.6.  Assume the variance is known to be 3.61.  How large of a sample would be required in order to estimate the mean number of reproductions per hour at the 95% confidence level with an error of at most 0.19 reproductions? \n",
    "#(Round your answer up to the next integer)\n",
    "mean=12.6\n",
    "var=3.61\n",
    "sd=sqrt(var)\n",
    "z95 = 1.96\n",
    "print ( np.ceil( ( (z95*sd) /.19) **2) )"
   ]
  },
  {
   "cell_type": "code",
   "execution_count": 73,
   "id": "a3540da1",
   "metadata": {},
   "outputs": [
    {
     "name": "stdout",
     "output_type": "stream",
     "text": [
      "0.17\n",
      "0.189 \n",
      " 0.151\n"
     ]
    }
   ],
   "source": [
    "#20. The state education commission wants to estimate the fraction of tenth grade students that have reading skills at or below the eighth grade level.\n",
    "#Step 1. Suppose a sample of 2089 tenth graders is drawn. Of the students sampled, 1734 read above the eighth grade level.  Using the data, estimate the proportion of tenth graders reading at or below the eighth grade level. \n",
    "# (Write your answer as a fraction or a decimal number rounded to 3 decimal places) \n",
    "print( round( (2089-1734)/2089 , 3) )\n",
    "\n",
    "#Step 2. Construct the 98% confidence interval for the population proportion of tenth graders reading at or below the eighth grade level. \n",
    "#(Round your answers to 3 decimal places)\n",
    "n = 2089\n",
    "z98 = 2.33\n",
    "margin = (z98*sqrt((.17)*(1-.17)/n))\n",
    "print ( round (.17 + margin, 3), \"\\n\" , round (.17 - margin, 3) )"
   ]
  },
  {
   "cell_type": "code",
   "execution_count": 75,
   "id": "e08796e6",
   "metadata": {},
   "outputs": [
    {
     "name": "stdout",
     "output_type": "stream",
     "text": [
      "0.329\n",
      "0.371 \n",
      " 0.287\n"
     ]
    }
   ],
   "source": [
    "#21. An environmentalist wants to find out the fraction of oil tankers that have spills each month.\n",
    "#Step 1. Suppose a sample of 474 tankers is drawn. Of these ships, 156 had spills. Using the data, estimate the proportion of oil tankers that had spills. \n",
    "#(Write your answer as a fraction or a decimal number rounded to 3 decimal places)\n",
    "spill = round( 156/474 , 3)\n",
    "print(spill)\n",
    "\n",
    "#Step 2. Suppose a sample of 474 tankers is drawn. Of these ships, 156 had spills. Using the data, construct the 95% confidence interval for the population proportion of oil tankers that have spills each month. \n",
    "#(Round your answers to 3 decimal places)\n",
    "n=474\n",
    "z95=1.96\n",
    "margin = (z95*sqrt((spill)*(1-spill)/n))\n",
    "print ( round (spill + margin, 3), \"\\n\" , round (spill - margin, 3) )"
   ]
  },
  {
   "cell_type": "code",
   "execution_count": null,
   "id": "d8fba68c",
   "metadata": {},
   "outputs": [],
   "source": []
  }
 ],
 "metadata": {
  "kernelspec": {
   "display_name": "Python 3 (ipykernel)",
   "language": "python",
   "name": "python3"
  },
  "language_info": {
   "codemirror_mode": {
    "name": "ipython",
    "version": 3
   },
   "file_extension": ".py",
   "mimetype": "text/x-python",
   "name": "python",
   "nbconvert_exporter": "python",
   "pygments_lexer": "ipython3",
   "version": "3.9.12"
  }
 },
 "nbformat": 4,
 "nbformat_minor": 5
}
