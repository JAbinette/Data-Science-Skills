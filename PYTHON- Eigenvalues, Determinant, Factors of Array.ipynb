{
 "cells": [
  {
   "cell_type": "code",
   "execution_count": 171,
   "id": "f4cd01ef",
   "metadata": {},
   "outputs": [],
   "source": [
    "import numpy as np\n",
    "from sympy import *\n",
    "import re\n",
    "import pandas as pd"
   ]
  },
  {
   "cell_type": "code",
   "execution_count": 219,
   "id": "a46bb513",
   "metadata": {},
   "outputs": [
    {
     "name": "stdout",
     "output_type": "stream",
     "text": [
      "[ 8. -2.]\n",
      "[[ 0.9486833  -0.31622777]\n",
      " [ 0.31622777  0.9486833 ]]\n",
      "Eigenvalues:  [8 -2]\n",
      "(Matrix([\n",
      "[1, -3],\n",
      "[0,  0]]), (0,)) (Matrix([\n",
      "[1, 1/3],\n",
      "[0,   0]]), (0,))\n"
     ]
    }
   ],
   "source": [
    "#1.  Write a Python program to compute the eigenvalues and right eigenvectors of a given square array.\n",
    "## Example Matrix\n",
    "a = np.array([[7,3],[3,-1]])\n",
    "## The Easy Way \n",
    "values, vectors = np.linalg.eig(a)\n",
    "print(values)\n",
    "print(vectors)\n",
    "\n",
    "## Ax = lx\n",
    "## Assign l as eigenvalue lambda\n",
    "y = Symbol('y')\n",
    "## Multiply identify matrix by y to get yI\n",
    "yI = y*eye(2)\n",
    "## Subtract yI from a \n",
    "a2 = a - yI\n",
    "## Calculate determinant\n",
    "a3 = det(a2)\n",
    "## Solve polynomial to get Eigenvalues 8 and -2 for this example\n",
    "a4 = roots(a3)\n",
    "a5 = a4.items()\n",
    "a6 = pd.DataFrame.from_dict(a5)  #Convert dictionary to dataframe\n",
    "a7 = array(a6.iloc[:, 0])        #Retrieve 1st column of dataframe as an array\n",
    "print(\"Eigenvalues: \",a7)\n",
    "eval1 = a7[0]\n",
    "eval2 = a7[1]\n",
    "evecM1 = a - (evalue1 * eye(2))\n",
    "evec1 = evecM1.rref()\n",
    "evecM2 = a - (evalue2 * eye(2))\n",
    "evec2 = evecM2.rref()\n",
    "print(evec1, evec2)  ## Can't seem to figure out how to get eigenvectors using rref"
   ]
  },
  {
   "cell_type": "code",
   "execution_count": 152,
   "id": "6f03a8b1",
   "metadata": {},
   "outputs": [
    {
     "name": "stdout",
     "output_type": "stream",
     "text": [
      "[[-0.9486833  -0.31622777]\n",
      " [-0.31622777  0.9486833 ]]\n",
      "[8. 2.]\n",
      "[[-0.9486833  -0.31622777]\n",
      " [ 0.31622777 -0.9486833 ]]\n"
     ]
    }
   ],
   "source": [
    "#2.  Write a Python program to compute the factor of a given array by Singular Value Decomposition\n",
    "## Example Matrix\n",
    "from scipy.linalg import svd\n",
    "a = array([[7,3],[3,-1]])\n",
    "\n",
    "U,s,V = svd(a)\n",
    "print(U)\n",
    "print(s)\n",
    "print(V)"
   ]
  },
  {
   "cell_type": "code",
   "execution_count": 211,
   "id": "01aeb727",
   "metadata": {},
   "outputs": [
    {
     "name": "stdout",
     "output_type": "stream",
     "text": [
      "-15.999999999999998\n",
      "-16.0\n",
      "-16\n"
     ]
    }
   ],
   "source": [
    "#3.  Write a Python program to compute the determinant of an array.\n",
    "## Example Matrix\n",
    "a = array([[7,3],[3,-1]])\n",
    "print(linalg.det(a))\n",
    "## Determinant is the product of all the eigenvalues of the matrix\n",
    "values, vectors = np.linalg.eig(a)\n",
    "print(values[0]*values[1])\n",
    "## or for 2x2 multiply diagonals and subtract\n",
    "print(a[0,0]*a[1,1]-a[0,1]*a[1,0])"
   ]
  }
 ],
 "metadata": {
  "kernelspec": {
   "display_name": "Python 3 (ipykernel)",
   "language": "python",
   "name": "python3"
  },
  "language_info": {
   "codemirror_mode": {
    "name": "ipython",
    "version": 3
   },
   "file_extension": ".py",
   "mimetype": "text/x-python",
   "name": "python",
   "nbconvert_exporter": "python",
   "pygments_lexer": "ipython3",
   "version": "3.9.12"
  }
 },
 "nbformat": 4,
 "nbformat_minor": 5
}
