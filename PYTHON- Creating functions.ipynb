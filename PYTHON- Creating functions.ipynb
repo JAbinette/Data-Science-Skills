{
 "cells": [
  {
   "cell_type": "code",
   "execution_count": 74,
   "id": "c6e478b5",
   "metadata": {},
   "outputs": [
    {
     "name": "stdout",
     "output_type": "stream",
     "text": [
      "Enter an integer: 1\n",
      "odd\n",
      "1\n",
      "3\n",
      "5\n",
      "7\n",
      "9\n",
      "11\n",
      "13\n",
      "15\n",
      "17\n",
      "19\n"
     ]
    }
   ],
   "source": [
    "#Chapter 1.  Programming Challenge 1 page 22, Even-Odd Vending Machine\n",
    "try:\n",
    "    a = float(input('Enter an integer: '))\n",
    "    if a.is_integer():\n",
    "        if int(a) % 2 == 0 :\n",
    "            print('even')\n",
    "        else:\n",
    "            print('odd')    \n",
    "        for i in range(int(a),int(a)+20,2):\n",
    "            print(i)\n",
    "    else:\n",
    "        print('Please enter integer')\n",
    "except ValueError:\n",
    "        print('You entered an invalid number')"
   ]
  },
  {
   "cell_type": "code",
   "execution_count": 75,
   "id": "ddb52be9",
   "metadata": {
    "scrolled": true
   },
   "outputs": [
    {
     "name": "stdout",
     "output_type": "stream",
     "text": [
      "x=-10 y=81\n",
      "x=-3 y=4\n",
      "x=-1 y=0\n",
      "x=1 y=4\n",
      "x=2 y=9\n",
      "x=3 y=16\n",
      "x=4 y=25\n",
      "x=5 y=36\n",
      "x=6 y=49\n",
      "x=7 y=64\n",
      "x=8 y=81\n",
      "x=9 y=100\n",
      "x=10 y=121\n"
     ]
    },
    {
     "data": {
      "image/png": "[encoded data removed]",
      "text/plain": [
       "<Figure size 432x288 with 1 Axes>"
      ]
     },
     "metadata": {
      "needs_background": "light"
     },
     "output_type": "display_data"
    }
   ],
   "source": [
    "#Chapter 2.  Programming Challenge 2 page 55, Exploring a Quadratic Function Visually\n",
    "# Enhance program to using at least 10 values for x and then creating a graph\n",
    "x_values = [-10,-3,-1,1,2,3,4,5,6,7,8,9,10]  #Added -10,-3 and 6-10\n",
    "y_values = []\n",
    "for x in x_values:\n",
    "    y = x**2 + 2*x + 1\n",
    "    y_values.append(y)\n",
    "    print('x={0} y={1}'.format(x, y))\n",
    "from pylab import plot, show\n",
    "plot(x_values,y_values)\n",
    "show()"
   ]
  },
  {
   "cell_type": "code",
   "execution_count": 73,
   "id": "f112ad72",
   "metadata": {},
   "outputs": [
    {
     "name": "stdout",
     "output_type": "stream",
     "text": [
      "Mean: 477.75000\n",
      "Median: 500.00000\n",
      "Modes:  100.0 and 500.0\n",
      "Variance: 141047.35417\n",
      "Standard deviation: 375.56272\n"
     ]
    }
   ],
   "source": [
    "#Chapter 3.  Programming Challenge 2 page 89, Statistics Calculator\n",
    "#Implement a stat calculator that takes a list of numbers in the file mydata.txt\n",
    "#Calculate and print mean, median, mode, variance and standard deviation using the functions written earlier in chapter\n",
    "def calc_mean(numbers):\n",
    "    s = sum(numbers)\n",
    "    N = len(numbers)\n",
    "    mean = s/N\n",
    "    return mean\n",
    "def calc_median(numbers):\n",
    "    N = len(numbers)\n",
    "    numbers.sort()\n",
    "    \n",
    "    if N % 2 == 0:\n",
    "        m1 = N/2\n",
    "        m2 = (N/2) + 1\n",
    "        m1 = int(m1) - 1\n",
    "        m2 = int(m2) - 1\n",
    "        median = (numbers[m1] + numbers[m2]) / 2\n",
    "    else:\n",
    "        m = (N+1)/2\n",
    "        m = int(m) - 1\n",
    "        median = numbers[m]\n",
    "    return median\n",
    "from collections import Counter\n",
    "def calc_mode(numbers):\n",
    "    c = Counter(numbers)\n",
    "    numbers_freq = c.most_common()\n",
    "    max_count = numbers_freq[0][1]\n",
    "    modes = []\n",
    "    for num in numbers_freq:\n",
    "        if num[1] == max_count:\n",
    "            modes.append(num[0])\n",
    "    return modes\n",
    "def find_diff(numbers):\n",
    "    mean = calc_mean(numbers)\n",
    "    diff = []\n",
    "    for num in numbers:\n",
    "        diff.append(num-mean)\n",
    "    return diff\n",
    "def calc_variance(numbers):\n",
    "    diff = find_diff(numbers)\n",
    "    squared_diff = []\n",
    "    for d in diff:\n",
    "        squared_diff.append(d**2)\n",
    "    sum_squared_diff = sum(squared_diff)\n",
    "    variance = sum_squared_diff / len(numbers)\n",
    "    return variance\n",
    "\n",
    "def read_data(filename):\n",
    "    numbers = []\n",
    "    with open(filename) as f:\n",
    "        for line in f:\n",
    "            numbers.append(float(line))\n",
    "    return numbers\n",
    "if __name__=='__main__':\n",
    "    data = read_data('mydata.txt')\n",
    "    m = calc_mean(data)\n",
    "    median = calc_median(data)\n",
    "    mode = calc_mode(data)\n",
    "    variance = calc_variance(data)\n",
    "    sd = calc_variance(data)**.5\n",
    "    print('Mean: {0:.5f}'.format(m))\n",
    "    print('Median: {0:.5f}'.format(median))\n",
    "    print('Modes: ', mode[0], 'and', mode[1])\n",
    "    print('Variance: {0:.5f}'.format(variance))\n",
    "    print('Standard deviation: {0:.5f}'.format(sd))"
   ]
  },
  {
   "cell_type": "code",
   "execution_count": 79,
   "id": "ce5f5e7a",
   "metadata": {},
   "outputs": [
    {
     "name": "stdout",
     "output_type": "stream",
     "text": [
      "Enter the inequality to solve: sin(x) - .6 > 0\n",
      "Interval.open(0.643501108793284, -0.643501108793284 + pi)\n"
     ]
    }
   ],
   "source": [
    "#Chapter 4.  Programming Challenge 4 page 117, Solving Single-Variable Inequalities\n",
    "#Create function isolve() that can take any inequality, solve it and then return the solution\n",
    "from sympy import Symbol, sympify, SympifyError\n",
    "from sympy import solve_poly_inequality, solve_rational_inequalities, solve_univariate_inequality, Poly\n",
    "from sympy.core.relational import Relational, Equality\n",
    "\n",
    "def isolve(ineq_obj):\n",
    "    x = Symbol('x')\n",
    "\n",
    "    expr = ineq_obj.lhs\n",
    "    rel = ineq_obj.rel_op\n",
    "    \n",
    "    if expr.is_polynomial():\n",
    "        p = Poly(expr, x)\n",
    "        return solve_poly_inequality(p, rel)\n",
    "    elif expr.is_rational_function():\n",
    "        p1, p2 = expr.as_numer_denom()\n",
    "        num  = Poly(p1)\n",
    "        denom = Poly(p2)\n",
    "        return solve_rational_inequalities([[((num, denom), rel)]])\n",
    "    else:\n",
    "        return solve_univariate_inequality(ineq_obj , x, relational=False)\n",
    "\n",
    "if __name__ == '__main__':\n",
    "    ineq = input('Enter the inequality to solve: ')\n",
    "    try:\n",
    "        ineq_obj = sympify(ineq)\n",
    "    except SympifyError:\n",
    "        print('Invalid inequality')\n",
    "    else:\n",
    "        if isinstance(ineq_obj, Relational) and not isinstance(ineq_obj, Equality):\n",
    "            print(isolve(ineq_obj))\n",
    "        else:\n",
    "            print('Invalid inequality')"
   ]
  },
  {
   "cell_type": "code",
   "execution_count": 66,
   "id": "335c5c43",
   "metadata": {},
   "outputs": [
    {
     "name": "stdout",
     "output_type": "stream",
     "text": [
      "Expected value: 3.5\n",
      "Trials: 100 Trial average 3.31\n",
      "Trials: 1000 Trial average 3.426\n",
      "Trials: 10000 Trial average 3.5154\n",
      "Trials: 100000 Trial average 3.50027\n",
      "Trials: 500000 Trial average 3.502266\n"
     ]
    }
   ],
   "source": [
    "#Chapter 5.  Programming Challenge 2 page 143, Law of Large Numbers\n",
    "#Verify law of Large Numbers (average value of results over multiple trials approaches the expected value as the number of trials increases)\n",
    "#Write program rolling 6-sided die for the following number of trials: 100, 1000, 10000, 100000, 5000000\n",
    "#Output should show Expected value, Number of Trials, Avg of Trials\n",
    "import random\n",
    "\n",
    "def roll(num_trials):\n",
    "    rolls = []\n",
    "    for t in range(num_trials):\n",
    "        rolls.append(random.randint(1, 6))\n",
    "    return sum(rolls)/num_trials\n",
    "\n",
    "if __name__ == '__main__':\n",
    "    expected_value = 3.5\n",
    "    print('Expected value: {0}'.format(expected_value))\n",
    "    for trial in [100, 1000, 10000, 100000, 500000]:\n",
    "        avg = roll(trial)\n",
    "        print('Trials: {0} Trial average {1}'.format(trial, avg))"
   ]
  },
  {
   "cell_type": "code",
   "execution_count": 71,
   "id": "72c01d69",
   "metadata": {},
   "outputs": [
    {
     "name": "stdout",
     "output_type": "stream",
     "text": [
      "Enter a function in one variable: cos(x)\n",
      "Enter the variable to differentiate with respect to: x\n",
      "Enter the initial value of the variable: .01\n",
      "x: 0.0100009999833334\n",
      "Minimum value: 0.999949990416499\n"
     ]
    },
    {
     "data": {
      "image/png": "[encoded data removed]",
      "text/plain": [
       "<Figure size 432x288 with 1 Axes>"
      ]
     },
     "metadata": {
      "needs_background": "light"
     },
     "output_type": "display_data"
    }
   ],
   "source": [
    "#Chapter 7.  Programming Challenge 2 page 205, Implement the Gradient Descent\n",
    "#Gradient descent method used to find the min value of a function\n",
    "#Is iterative method: starts with initial value of the variable and gradually gets closer to the variable value that corresponds to the min value\n",
    "#Implement program using gradient descent algorithm to find the min value of a single-variable function specified as input by user\n",
    "#Program should also create graph of function and show all intermediate values found before finding the minimum\n",
    "from sympy import Derivative, Symbol, sympify, solve\n",
    "import matplotlib.pyplot as plt\n",
    "\n",
    "def grad_descent(x0, f1x, x):\n",
    "    # check if f1x=0 has a solution\n",
    "    if not solve(f1x):\n",
    "        print('Cannot continue, solution for {0}=0 does not exist'.format(f1x))\n",
    "        return None\n",
    "    epsilon =  1e-6\n",
    "    step_size = 1e-4\n",
    "    x_old = x0\n",
    "    x_new = x_old - step_size*f1x.subs({x:x_old}).evalf()\n",
    "\n",
    "    # list to store the X values traversed\n",
    "    X_traversed = []\n",
    "    while abs(x_old - x_new) > epsilon:\n",
    "        X_traversed.append(x_new)\n",
    "        x_old = x_new\n",
    "        x_new = x_old-step_size*f1x.subs({x:x_old}).evalf()\n",
    "\n",
    "    return x_new, X_traversed\n",
    "\n",
    "def frange(start, final, interval):\n",
    "\n",
    "    numbers = []\n",
    "    while start < final:\n",
    "        numbers.append(start)\n",
    "        start = start + interval\n",
    "    \n",
    "    return numbers\n",
    "\n",
    "def create_plot(X_traversed, f, var):\n",
    "    # First create the graph of the function itself\n",
    "    x_val = frange(-1, 1, 0.01)\n",
    "    f_val = [f.subs({var:x}) for x in x_val]\n",
    "    plt.plot(x_val, f_val, 'bo')\n",
    "    # calculate the function value at each of the intermediate\n",
    "    # points traversed\n",
    "    f_traversed = [f.subs({var:x}) for x in X_traversed]\n",
    "    plt.plot(X_traversed, f_traversed, 'r.')\n",
    "    plt.legend(['Function', 'Intermediate points'], loc='best')\n",
    "    plt.show()\n",
    "\n",
    "if __name__ == '__main__':\n",
    "\n",
    "    f = input('Enter a function in one variable: ')\n",
    "    var = input('Enter the variable to differentiate with respect to: ')\n",
    "    var0 = float(input('Enter the initial value of the variable: '))\n",
    "    try:\n",
    "        f = sympify(f)\n",
    "    except SympifyError:\n",
    "        print('Invalid function entered')\n",
    "    else:\n",
    "        var = Symbol(var)\n",
    "        d = Derivative(f, var).doit()\n",
    "        var_min, X_traversed = grad_descent(var0, d, var)\n",
    "        if var_min:\n",
    "            print('{0}: {1}'.format(var.name, var_min))\n",
    "            print('Minimum value: {0}'.format(f.subs({var:var_min})))\n",
    "            create_plot(X_traversed, f, var)"
   ]
  }
 ],
 "metadata": {
  "kernelspec": {
   "display_name": "Python 3 (ipykernel)",
   "language": "python",
   "name": "python3"
  },
  "language_info": {
   "codemirror_mode": {
    "name": "ipython",
    "version": 3
   },
   "file_extension": ".py",
   "mimetype": "text/x-python",
   "name": "python",
   "nbconvert_exporter": "python",
   "pygments_lexer": "ipython3",
   "version": "3.9.12"
  }
 },
 "nbformat": 4,
 "nbformat_minor": 5
}
