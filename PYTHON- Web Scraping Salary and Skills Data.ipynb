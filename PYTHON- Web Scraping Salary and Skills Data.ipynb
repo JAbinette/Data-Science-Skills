{
 "cells": [
  {
   "cell_type": "code",
   "execution_count": 1,
   "id": "47b11a27",
   "metadata": {},
   "outputs": [],
   "source": [
    "import re\n",
    "import csv\n",
    "import json\n",
    "from time import sleep\n",
    "from bs4 import BeautifulSoup\n",
    "import requests\n",
    "import pandas as pd"
   ]
  },
  {
   "cell_type": "code",
   "execution_count": 2,
   "id": "fd0762f4",
   "metadata": {},
   "outputs": [],
   "source": [
    "def extract_salary_info(job_title, job_city):\n",
    "  \"\"\"Extract and return salary information\"\"\"\n",
    "  template = 'https://www.salary.com/research/salary/listing/{}-salary/{}'\n",
    "  url = template.format (job_title, job_city)\n",
    "  try:\n",
    "    response = requests.get(url)\n",
    "    if response.status_code != 200:\n",
    "      return None\n",
    "  except requests.exceptions.ConnectionError:\n",
    "    return None\n",
    "  soup = BeautifulSoup(response. text, 'html.parser')\n",
    "  pattern = re.compile(r'Occupation')\n",
    "  script = soup.find('script', {'type':'application/ld+json'}, text = pattern)\n",
    "  json_raw = script.contents[0]\n",
    "  json_data = json.loads(json_raw)\n",
    "\n",
    "  job_title = json_data['name']\n",
    "  location = json_data['occupationLocation'][0]['name']\n",
    "  description = json_data['description']\n",
    "  responsibilities = json_data['responsibilities']\n",
    "  ntile_10 = json_data['estimatedSalary'][0]['percentile10']\n",
    "  ntile_25 = json_data['estimatedSalary'][0]['percentile25']\n",
    "  ntile_50 = json_data['estimatedSalary'][0]['median']\n",
    "  ntile_75 = json_data['estimatedSalary'][0]['percentile75']\n",
    "  ntile_90 = json_data['estimatedSalary'][0]['percentile90']\n",
    "\n",
    "  salary_data = (job_title, location, description, responsibilities, ntile_10, ntile_25, ntile_50, ntile_75, ntile_90)\n",
    "  return salary_data"
   ]
  },
  {
   "cell_type": "code",
   "execution_count": 3,
   "id": "44a0e0b1",
   "metadata": {},
   "outputs": [],
   "source": [
    "def main(job_title):\n",
    "    \"\"\"Extract salary data from top us cities\"\"\"\n",
    "\n",
    "    # get the list of us states\n",
    "    states = pd.read_csv('https://raw.githubusercontent.com/Umerfarooq122/Data_sets/main/tile_data.csv')\n",
    "\n",
    "    states = states['Abbreviation'].tolist()\n",
    "\n",
    "    # extract salary data for each state\n",
    "    salary_data = []\n",
    "    for state in states:\n",
    "        result = extract_salary_info(job_title, state)\n",
    "        if result:\n",
    "            salary_data.append(result)\n",
    "            sleep(0.5)\n",
    "\n",
    "    # save data to csv file\n",
    "    with open('salary-results.csv', 'w', newline='', encoding='utf-8') as f:\n",
    "        writer = csv.writer(f)\n",
    "        writer.writerow(['Title','Location', 'Description', 'nTile10', 'nTile25', 'nTile50', 'nTile75', 'nTile90'])\n",
    "        writer.writerows(salary_data)\n",
    "\n",
    "    return salary_data"
   ]
  },
  {
   "cell_type": "code",
   "execution_count": 4,
   "id": "1330ba13",
   "metadata": {},
   "outputs": [],
   "source": [
    "data_scientist = main('data-scientist')\n",
    "df_sci = pd.DataFrame.from_records(data_scientist)"
   ]
  },
  {
   "cell_type": "code",
   "execution_count": 5,
   "id": "589a5f8d",
   "metadata": {},
   "outputs": [],
   "source": [
    "data_analyst = main('data-analyst')\n",
    "df_anl = pd.DataFrame.from_records(data_analyst)"
   ]
  },
  {
   "cell_type": "code",
   "execution_count": 6,
   "id": "162c63fe",
   "metadata": {},
   "outputs": [],
   "source": [
    "bi = main('data-engineer')\n",
    "df_bi = pd.DataFrame.from_records(bi)"
   ]
  },
  {
   "cell_type": "code",
   "execution_count": 7,
   "id": "a81f5596",
   "metadata": {},
   "outputs": [],
   "source": [
    "arch = main('data-architect')\n",
    "df_arc = pd.DataFrame.from_records(arch)"
   ]
  },
  {
   "cell_type": "code",
   "execution_count": 8,
   "id": "a7bac8c4",
   "metadata": {},
   "outputs": [],
   "source": [
    "ba = main('business-analyst')\n",
    "df_ba = pd.DataFrame.from_records(ba)"
   ]
  },
  {
   "cell_type": "code",
   "execution_count": 23,
   "id": "ebc1c58a",
   "metadata": {},
   "outputs": [],
   "source": [
    "frames = [df_sci, df_anl, df_bi,df_arc,df_ba]\n",
    "result = pd.concat(frames)\n",
    "result.rename(columns = {'1':'STATE'})\n",
    "result.columns = ['Title', 'State', 'Descr','Responsibilities','Percent10','Percent25','PercentMedian','Percent75','Percent90']\n"
   ]
  },
  {
   "cell_type": "code",
   "execution_count": 25,
   "id": "67f47451",
   "metadata": {},
   "outputs": [],
   "source": [
    "result.head()\n",
    "result.to_excel('2-salary.xlsx')"
   ]
  },
  {
   "cell_type": "code",
   "execution_count": null,
   "id": "31c68551",
   "metadata": {},
   "outputs": [],
   "source": [
    "## Scrape top 10 skills mentioned in job descriptions\n",
    "j_url = 'https://www.ziprecruiter.com/career/Data-Scientist/Resume-Keywords-and-Skills'\n",
    "j_response = requests.get(j_url)\n",
    "j_soup = BeautifulSoup(j_response.text, 'html.parser')\n",
    "print(j_soup.prettify())"
   ]
  },
  {
   "cell_type": "code",
   "execution_count": null,
   "id": "d9727378",
   "metadata": {},
   "outputs": [],
   "source": [
    "script = j_soup.find('div', {'class':\"skills-required-by-employers-table\"}) \n",
    "script.contents[3]\n",
    "result.to_excel('4-Job Description Skills.xlsx')"
   ]
  }
 ],
 "metadata": {
  "kernelspec": {
   "display_name": "Python 3 (ipykernel)",
   "language": "python",
   "name": "python3"
  },
  "language_info": {
   "codemirror_mode": {
    "name": "ipython",
    "version": 3
   },
   "file_extension": ".py",
   "mimetype": "text/x-python",
   "name": "python",
   "nbconvert_exporter": "python",
   "pygments_lexer": "ipython3",
   "version": "3.9.12"
  }
 },
 "nbformat": 4,
 "nbformat_minor": 5
}
